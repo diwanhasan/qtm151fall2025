{
 "cells": [
  {
   "cell_type": "markdown",
   "id": "4f06107e",
   "metadata": {},
   "source": [
    "# <span fontsize = 500> this is my first jupyter notebook </span>"
   ]
  },
  {
   "cell_type": "code",
   "execution_count": 1,
   "id": "aa68bf30",
   "metadata": {},
   "outputs": [
    {
     "name": "stdout",
     "output_type": "stream",
     "text": [
      "my name is hasan diwan\n"
     ]
    }
   ],
   "source": [
    "print(\"my name is hasan diwan\")"
   ]
  }
 ],
 "metadata": {
  "kernelspec": {
   "display_name": "base",
   "language": "python",
   "name": "python3"
  },
  "language_info": {
   "codemirror_mode": {
    "name": "ipython",
    "version": 3
   },
   "file_extension": ".py",
   "mimetype": "text/x-python",
   "name": "python",
   "nbconvert_exporter": "python",
   "pygments_lexer": "ipython3",
   "version": "3.13.5"
  }
 },
 "nbformat": 4,
 "nbformat_minor": 5
}
